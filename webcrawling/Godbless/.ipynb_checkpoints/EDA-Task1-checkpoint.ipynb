{
 "cells": [
  {
   "cell_type": "code",
   "execution_count": 5,
   "metadata": {},
   "outputs": [],
   "source": [
    "import pandas as pd\n",
    "import numpy as np\n",
    "import seaborn as sns\n",
    "import matplotlib.pyplot as plt\n",
    "\n",
    "%matplotlib inline"
   ]
  },
  {
   "cell_type": "code",
   "execution_count": 6,
   "metadata": {},
   "outputs": [],
   "source": [
    "dataset = pd.read_csv('Task1+copy.csv', encoding = 'latin-1')"
   ]
  },
  {
   "cell_type": "code",
   "execution_count": 7,
   "metadata": {},
   "outputs": [
    {
     "data": {
      "text/plain": [
       "(300, 8)"
      ]
     },
     "execution_count": 7,
     "metadata": {},
     "output_type": "execute_result"
    }
   ],
   "source": [
    "dataset.shape"
   ]
  },
  {
   "cell_type": "code",
   "execution_count": 11,
   "metadata": {},
   "outputs": [
    {
     "data": {
      "text/html": [
       "<div>\n",
       "<style scoped>\n",
       "    .dataframe tbody tr th:only-of-type {\n",
       "        vertical-align: middle;\n",
       "    }\n",
       "\n",
       "    .dataframe tbody tr th {\n",
       "        vertical-align: top;\n",
       "    }\n",
       "\n",
       "    .dataframe thead th {\n",
       "        text-align: right;\n",
       "    }\n",
       "</style>\n",
       "<table border=\"1\" class=\"dataframe\">\n",
       "  <thead>\n",
       "    <tr style=\"text-align: right;\">\n",
       "      <th></th>\n",
       "      <th>Unnamed: 0</th>\n",
       "      <th>index</th>\n",
       "      <th>topic</th>\n",
       "      <th>category</th>\n",
       "      <th>tag</th>\n",
       "      <th>url</th>\n",
       "      <th>reply</th>\n",
       "      <th>views</th>\n",
       "    </tr>\n",
       "  </thead>\n",
       "  <tbody>\n",
       "    <tr>\n",
       "      <th>0</th>\n",
       "      <td>0</td>\n",
       "      <td>0</td>\n",
       "      <td>Public calendar for SmartThings developer events</td>\n",
       "      <td>Groups &amp; Events</td>\n",
       "      <td>NaN</td>\n",
       "      <td>https://community.smartthings.com/t/public-cal...</td>\n",
       "      <td>14</td>\n",
       "      <td>8817</td>\n",
       "    </tr>\n",
       "    <tr>\n",
       "      <th>1</th>\n",
       "      <td>1</td>\n",
       "      <td>1</td>\n",
       "      <td>Power Outage Causes Hub Format Error</td>\n",
       "      <td>General Discussion</td>\n",
       "      <td>NaN</td>\n",
       "      <td>https://community.smartthings.com/t/power-outa...</td>\n",
       "      <td>5</td>\n",
       "      <td>60</td>\n",
       "    </tr>\n",
       "    <tr>\n",
       "      <th>2</th>\n",
       "      <td>2</td>\n",
       "      <td>2</td>\n",
       "      <td>Custom Capability and CLI Developer Preview</td>\n",
       "      <td>Announcements</td>\n",
       "      <td>devicetype                    ,Â              ...</td>\n",
       "      <td>https://community.smartthings.com/t/custom-cap...</td>\n",
       "      <td>19</td>\n",
       "      <td>1204</td>\n",
       "    </tr>\n",
       "    <tr>\n",
       "      <th>3</th>\n",
       "      <td>3</td>\n",
       "      <td>3</td>\n",
       "      <td>'Fibaro Z-Wave FGK-101 Temperature &amp; Door/Wind...</td>\n",
       "      <td>Community Created Device Types</td>\n",
       "      <td>fibaro                    ,Â                  ...</td>\n",
       "      <td>https://community.smartthings.com/t/fibaro-z-w...</td>\n",
       "      <td>527</td>\n",
       "      <td>30566</td>\n",
       "    </tr>\n",
       "    <tr>\n",
       "      <th>4</th>\n",
       "      <td>4</td>\n",
       "      <td>4</td>\n",
       "      <td>FortrezZ Water Flow Meter</td>\n",
       "      <td>Devices &amp; Integrations</td>\n",
       "      <td>watermeter                    ,Â              ...</td>\n",
       "      <td>https://community.smartthings.com/t/fortrezz-w...</td>\n",
       "      <td>379</td>\n",
       "      <td>14396</td>\n",
       "    </tr>\n",
       "    <tr>\n",
       "      <th>5</th>\n",
       "      <td>5</td>\n",
       "      <td>5</td>\n",
       "      <td>Hub Firmware Beta 0.31.x</td>\n",
       "      <td>Hub Firmware Beta</td>\n",
       "      <td>NaN</td>\n",
       "      <td>https://community.smartthings.com/t/hub-firmwa...</td>\n",
       "      <td>66</td>\n",
       "      <td>1322</td>\n",
       "    </tr>\n",
       "  </tbody>\n",
       "</table>\n",
       "</div>"
      ],
      "text/plain": [
       "   Unnamed: 0  index                                              topic  \\\n",
       "0           0      0   Public calendar for SmartThings developer events   \n",
       "1           1      1               Power Outage Causes Hub Format Error   \n",
       "2           2      2        Custom Capability and CLI Developer Preview   \n",
       "3           3      3  'Fibaro Z-Wave FGK-101 Temperature & Door/Wind...   \n",
       "4           4      4                          FortrezZ Water Flow Meter   \n",
       "5           5      5                           Hub Firmware Beta 0.31.x   \n",
       "\n",
       "                         category  \\\n",
       "0                 Groups & Events   \n",
       "1              General Discussion   \n",
       "2                   Announcements   \n",
       "3  Community Created Device Types   \n",
       "4          Devices & Integrations   \n",
       "5               Hub Firmware Beta   \n",
       "\n",
       "                                                 tag  \\\n",
       "0                                                NaN   \n",
       "1                                                NaN   \n",
       "2  devicetype                    ,Â              ...   \n",
       "3  fibaro                    ,Â                  ...   \n",
       "4  watermeter                    ,Â              ...   \n",
       "5                                                NaN   \n",
       "\n",
       "                                                 url  reply  views  \n",
       "0  https://community.smartthings.com/t/public-cal...     14   8817  \n",
       "1  https://community.smartthings.com/t/power-outa...      5     60  \n",
       "2  https://community.smartthings.com/t/custom-cap...     19   1204  \n",
       "3  https://community.smartthings.com/t/fibaro-z-w...    527  30566  \n",
       "4  https://community.smartthings.com/t/fortrezz-w...    379  14396  \n",
       "5  https://community.smartthings.com/t/hub-firmwa...     66   1322  "
      ]
     },
     "execution_count": 11,
     "metadata": {},
     "output_type": "execute_result"
    }
   ],
   "source": [
    "dataset.head(6)"
   ]
  },
  {
   "cell_type": "code",
   "execution_count": 12,
   "metadata": {},
   "outputs": [
    {
     "data": {
      "text/plain": [
       "tag           0.466667\n",
       "views         0.000000\n",
       "reply         0.000000\n",
       "url           0.000000\n",
       "category      0.000000\n",
       "topic         0.000000\n",
       "index         0.000000\n",
       "Unnamed: 0    0.000000\n",
       "dtype: float64"
      ]
     },
     "execution_count": 12,
     "metadata": {},
     "output_type": "execute_result"
    }
   ],
   "source": [
    "dataset.isnull().mean().sort_values(ascending = False) #we get the percentage of missing values from every column"
   ]
  },
  {
   "cell_type": "code",
   "execution_count": 13,
   "metadata": {},
   "outputs": [
    {
     "data": {
      "text/plain": [
       "NaN                                                                                                                                                                                                                                   140\n",
       "rooms                    ,Â                     smartrules                    ,Â                     microlocation                    ,Â                     project_sensors                    ,Â                     manager         10\n",
       "devicetype                    ,Â                     dth_lighting                    ,Â                     dth_powermeter                    ,Â                     colorcontrol                                                      10\n",
       "motionsensor                    ,Â                     thermostat                    ,Â                     temperature                    ,Â                     smartapp_hvac                    ,Â                     rboyapps     10\n",
       "fibaro                    ,Â                     dth_sensors                                                                                                                                                                           10\n",
       "dth_powermeter                    ,Â                     power                                                                                                                                                                         10\n",
       "fan                    ,Â                     dth_hvac                                                                                                                                                                                 10\n",
       "project_av                    ,Â                     project_voice                    ,Â                     project_remotes                                                                                                           10\n",
       "hubv2                                                                                                                                                                                                                                  10\n",
       "sensor                    ,Â                     alarm                    ,Â                     thermostat                    ,Â                     dth_hvac                    ,Â                     nest                          10\n",
       "support                                                                                                                                                                                                                                10\n",
       "smartapp_av                    ,Â                     dth_av                    ,Â                     zone                                                                                                                            10\n",
       "smartapp_misc                    ,Â                     dth_sensors                    ,Â                     requires_server                    ,Â                     smartapp_appliances                                            10\n",
       "watermeter                    ,Â                     flowmeter                    ,Â                     fortrezz                                                                                                                      10\n",
       "devicetype                    ,Â                     developers                                                                                                                                                                        10\n",
       "sunset                    ,Â                     automation                                                                                                                                                                            10\n",
       "smartapp_alerts                    ,Â                     smartapp_security                    ,Â                     shm                    ,Â                     rboyapps                    ,Â                     entry-delay     10\n",
       "Name: tag, dtype: int64"
      ]
     },
     "execution_count": 13,
     "metadata": {},
     "output_type": "execute_result"
    }
   ],
   "source": [
    "dataset['tag'].value_counts(dropna = False)"
   ]
  },
  {
   "cell_type": "code",
   "execution_count": 14,
   "metadata": {},
   "outputs": [
    {
     "data": {
      "text/plain": [
       "Unnamed: 0     int64\n",
       "index          int64\n",
       "topic         object\n",
       "category      object\n",
       "tag           object\n",
       "url           object\n",
       "reply          int64\n",
       "views          int64\n",
       "dtype: object"
      ]
     },
     "execution_count": 14,
     "metadata": {},
     "output_type": "execute_result"
    }
   ],
   "source": [
    "dataset.dtypes"
   ]
  },
  {
   "cell_type": "code",
   "execution_count": 15,
   "metadata": {},
   "outputs": [],
   "source": [
    "dataset.drop(columns = ['Unnamed: 0'], inplace = True)"
   ]
  },
  {
   "cell_type": "code",
   "execution_count": 16,
   "metadata": {},
   "outputs": [
    {
     "data": {
      "text/html": [
       "<div>\n",
       "<style scoped>\n",
       "    .dataframe tbody tr th:only-of-type {\n",
       "        vertical-align: middle;\n",
       "    }\n",
       "\n",
       "    .dataframe tbody tr th {\n",
       "        vertical-align: top;\n",
       "    }\n",
       "\n",
       "    .dataframe thead th {\n",
       "        text-align: right;\n",
       "    }\n",
       "</style>\n",
       "<table border=\"1\" class=\"dataframe\">\n",
       "  <thead>\n",
       "    <tr style=\"text-align: right;\">\n",
       "      <th></th>\n",
       "      <th>index</th>\n",
       "      <th>topic</th>\n",
       "      <th>category</th>\n",
       "      <th>tag</th>\n",
       "      <th>url</th>\n",
       "      <th>reply</th>\n",
       "      <th>views</th>\n",
       "    </tr>\n",
       "  </thead>\n",
       "  <tbody>\n",
       "    <tr>\n",
       "      <th>0</th>\n",
       "      <td>0</td>\n",
       "      <td>Public calendar for SmartThings developer events</td>\n",
       "      <td>Groups &amp; Events</td>\n",
       "      <td>NaN</td>\n",
       "      <td>https://community.smartthings.com/t/public-cal...</td>\n",
       "      <td>14</td>\n",
       "      <td>8817</td>\n",
       "    </tr>\n",
       "    <tr>\n",
       "      <th>1</th>\n",
       "      <td>1</td>\n",
       "      <td>Power Outage Causes Hub Format Error</td>\n",
       "      <td>General Discussion</td>\n",
       "      <td>NaN</td>\n",
       "      <td>https://community.smartthings.com/t/power-outa...</td>\n",
       "      <td>5</td>\n",
       "      <td>60</td>\n",
       "    </tr>\n",
       "    <tr>\n",
       "      <th>2</th>\n",
       "      <td>2</td>\n",
       "      <td>Custom Capability and CLI Developer Preview</td>\n",
       "      <td>Announcements</td>\n",
       "      <td>devicetype                    ,Â              ...</td>\n",
       "      <td>https://community.smartthings.com/t/custom-cap...</td>\n",
       "      <td>19</td>\n",
       "      <td>1204</td>\n",
       "    </tr>\n",
       "    <tr>\n",
       "      <th>3</th>\n",
       "      <td>3</td>\n",
       "      <td>'Fibaro Z-Wave FGK-101 Temperature &amp; Door/Wind...</td>\n",
       "      <td>Community Created Device Types</td>\n",
       "      <td>fibaro                    ,Â                  ...</td>\n",
       "      <td>https://community.smartthings.com/t/fibaro-z-w...</td>\n",
       "      <td>527</td>\n",
       "      <td>30566</td>\n",
       "    </tr>\n",
       "  </tbody>\n",
       "</table>\n",
       "</div>"
      ],
      "text/plain": [
       "   index                                              topic  \\\n",
       "0      0   Public calendar for SmartThings developer events   \n",
       "1      1               Power Outage Causes Hub Format Error   \n",
       "2      2        Custom Capability and CLI Developer Preview   \n",
       "3      3  'Fibaro Z-Wave FGK-101 Temperature & Door/Wind...   \n",
       "\n",
       "                         category  \\\n",
       "0                 Groups & Events   \n",
       "1              General Discussion   \n",
       "2                   Announcements   \n",
       "3  Community Created Device Types   \n",
       "\n",
       "                                                 tag  \\\n",
       "0                                                NaN   \n",
       "1                                                NaN   \n",
       "2  devicetype                    ,Â              ...   \n",
       "3  fibaro                    ,Â                  ...   \n",
       "\n",
       "                                                 url  reply  views  \n",
       "0  https://community.smartthings.com/t/public-cal...     14   8817  \n",
       "1  https://community.smartthings.com/t/power-outa...      5     60  \n",
       "2  https://community.smartthings.com/t/custom-cap...     19   1204  \n",
       "3  https://community.smartthings.com/t/fibaro-z-w...    527  30566  "
      ]
     },
     "execution_count": 16,
     "metadata": {},
     "output_type": "execute_result"
    }
   ],
   "source": [
    "dataset.head(4)"
   ]
  },
  {
   "cell_type": "code",
   "execution_count": 17,
   "metadata": {},
   "outputs": [
    {
     "data": {
      "text/plain": [
       "0.4666666666666667"
      ]
     },
     "execution_count": 17,
     "metadata": {},
     "output_type": "execute_result"
    }
   ],
   "source": [
    "dataset.isnull().mean().sort_values(ascending = False).sum()"
   ]
  },
  {
   "cell_type": "code",
   "execution_count": 18,
   "metadata": {},
   "outputs": [
    {
     "data": {
      "text/plain": [
       "0                     Groups & Events\n",
       "1                  General Discussion\n",
       "2                       Announcements\n",
       "3      Community Created Device Types\n",
       "4              Devices & Integrations\n",
       "                    ...              \n",
       "295       Community Created SmartApps\n",
       "296    Community Created Device Types\n",
       "297       Community Created SmartApps\n",
       "298                General Discussion\n",
       "299                General Discussion\n",
       "Name: category, Length: 300, dtype: object"
      ]
     },
     "execution_count": 18,
     "metadata": {},
     "output_type": "execute_result"
    }
   ],
   "source": [
    "dataset['category']"
   ]
  },
  {
   "cell_type": "code",
   "execution_count": 35,
   "metadata": {},
   "outputs": [],
   "source": [
    "#we loop through the whole dataset to get rid of the NaN values\n",
    "for column in dataset:\n",
    "    if type(dataset[column]) == 'object':\n",
    "        dataset[column] = dataset[column].fillna(value = 'unknown')\n",
    "    else:\n",
    "        dataset[column] = dataset[column].fillna(value = 0)"
   ]
  },
  {
   "cell_type": "code",
   "execution_count": 36,
   "metadata": {},
   "outputs": [
    {
     "data": {
      "text/plain": [
       "views       0.0\n",
       "reply       0.0\n",
       "url         0.0\n",
       "tag         0.0\n",
       "category    0.0\n",
       "topic       0.0\n",
       "index       0.0\n",
       "dtype: float64"
      ]
     },
     "execution_count": 36,
     "metadata": {},
     "output_type": "execute_result"
    }
   ],
   "source": [
    "dataset.isnull().mean().sort_values(ascending = False)"
   ]
  },
  {
   "cell_type": "code",
   "execution_count": 37,
   "metadata": {},
   "outputs": [
    {
     "data": {
      "text/plain": [
       "0.0"
      ]
     },
     "execution_count": 37,
     "metadata": {},
     "output_type": "execute_result"
    }
   ],
   "source": [
    "dataset.isnull().mean().sort_values(ascending = False).sum()"
   ]
  },
  {
   "cell_type": "code",
   "execution_count": 32,
   "metadata": {},
   "outputs": [
    {
     "data": {
      "text/plain": [
       "0"
      ]
     },
     "execution_count": 32,
     "metadata": {},
     "output_type": "execute_result"
    }
   ],
   "source": [
    "dataset.isnull().sum().sum()"
   ]
  },
  {
   "cell_type": "code",
   "execution_count": 39,
   "metadata": {},
   "outputs": [
    {
     "data": {
      "text/html": [
       "<div>\n",
       "<style scoped>\n",
       "    .dataframe tbody tr th:only-of-type {\n",
       "        vertical-align: middle;\n",
       "    }\n",
       "\n",
       "    .dataframe tbody tr th {\n",
       "        vertical-align: top;\n",
       "    }\n",
       "\n",
       "    .dataframe thead th {\n",
       "        text-align: right;\n",
       "    }\n",
       "</style>\n",
       "<table border=\"1\" class=\"dataframe\">\n",
       "  <thead>\n",
       "    <tr style=\"text-align: right;\">\n",
       "      <th></th>\n",
       "      <th>index</th>\n",
       "      <th>topic</th>\n",
       "      <th>category</th>\n",
       "      <th>tag</th>\n",
       "      <th>url</th>\n",
       "      <th>reply</th>\n",
       "      <th>views</th>\n",
       "    </tr>\n",
       "  </thead>\n",
       "  <tbody>\n",
       "    <tr>\n",
       "      <th>0</th>\n",
       "      <td>0</td>\n",
       "      <td>Public calendar for SmartThings developer events</td>\n",
       "      <td>Groups &amp; Events</td>\n",
       "      <td>0</td>\n",
       "      <td>https://community.smartthings.com/t/public-cal...</td>\n",
       "      <td>14</td>\n",
       "      <td>8817</td>\n",
       "    </tr>\n",
       "    <tr>\n",
       "      <th>1</th>\n",
       "      <td>1</td>\n",
       "      <td>Power Outage Causes Hub Format Error</td>\n",
       "      <td>General Discussion</td>\n",
       "      <td>0</td>\n",
       "      <td>https://community.smartthings.com/t/power-outa...</td>\n",
       "      <td>5</td>\n",
       "      <td>60</td>\n",
       "    </tr>\n",
       "    <tr>\n",
       "      <th>2</th>\n",
       "      <td>2</td>\n",
       "      <td>Custom Capability and CLI Developer Preview</td>\n",
       "      <td>Announcements</td>\n",
       "      <td>devicetype                    ,Â              ...</td>\n",
       "      <td>https://community.smartthings.com/t/custom-cap...</td>\n",
       "      <td>19</td>\n",
       "      <td>1204</td>\n",
       "    </tr>\n",
       "    <tr>\n",
       "      <th>3</th>\n",
       "      <td>3</td>\n",
       "      <td>'Fibaro Z-Wave FGK-101 Temperature &amp; Door/Wind...</td>\n",
       "      <td>Community Created Device Types</td>\n",
       "      <td>fibaro                    ,Â                  ...</td>\n",
       "      <td>https://community.smartthings.com/t/fibaro-z-w...</td>\n",
       "      <td>527</td>\n",
       "      <td>30566</td>\n",
       "    </tr>\n",
       "    <tr>\n",
       "      <th>4</th>\n",
       "      <td>4</td>\n",
       "      <td>FortrezZ Water Flow Meter</td>\n",
       "      <td>Devices &amp; Integrations</td>\n",
       "      <td>watermeter                    ,Â              ...</td>\n",
       "      <td>https://community.smartthings.com/t/fortrezz-w...</td>\n",
       "      <td>379</td>\n",
       "      <td>14396</td>\n",
       "    </tr>\n",
       "  </tbody>\n",
       "</table>\n",
       "</div>"
      ],
      "text/plain": [
       "   index                                              topic  \\\n",
       "0      0   Public calendar for SmartThings developer events   \n",
       "1      1               Power Outage Causes Hub Format Error   \n",
       "2      2        Custom Capability and CLI Developer Preview   \n",
       "3      3  'Fibaro Z-Wave FGK-101 Temperature & Door/Wind...   \n",
       "4      4                          FortrezZ Water Flow Meter   \n",
       "\n",
       "                         category  \\\n",
       "0                 Groups & Events   \n",
       "1              General Discussion   \n",
       "2                   Announcements   \n",
       "3  Community Created Device Types   \n",
       "4          Devices & Integrations   \n",
       "\n",
       "                                                 tag  \\\n",
       "0                                                  0   \n",
       "1                                                  0   \n",
       "2  devicetype                    ,Â              ...   \n",
       "3  fibaro                    ,Â                  ...   \n",
       "4  watermeter                    ,Â              ...   \n",
       "\n",
       "                                                 url  reply  views  \n",
       "0  https://community.smartthings.com/t/public-cal...     14   8817  \n",
       "1  https://community.smartthings.com/t/power-outa...      5     60  \n",
       "2  https://community.smartthings.com/t/custom-cap...     19   1204  \n",
       "3  https://community.smartthings.com/t/fibaro-z-w...    527  30566  \n",
       "4  https://community.smartthings.com/t/fortrezz-w...    379  14396  "
      ]
     },
     "execution_count": 39,
     "metadata": {},
     "output_type": "execute_result"
    }
   ],
   "source": [
    "dataset.head()"
   ]
  },
  {
   "cell_type": "code",
   "execution_count": 40,
   "metadata": {},
   "outputs": [
    {
     "data": {
      "text/plain": [
       "0                                                                                                                                                                                                                                     140\n",
       "rooms                    ,Â                     smartrules                    ,Â                     microlocation                    ,Â                     project_sensors                    ,Â                     manager         10\n",
       "motionsensor                    ,Â                     thermostat                    ,Â                     temperature                    ,Â                     smartapp_hvac                    ,Â                     rboyapps     10\n",
       "fibaro                    ,Â                     dth_sensors                                                                                                                                                                           10\n",
       "dth_powermeter                    ,Â                     power                                                                                                                                                                         10\n",
       "devicetype                    ,Â                     dth_lighting                    ,Â                     dth_powermeter                    ,Â                     colorcontrol                                                      10\n",
       "fan                    ,Â                     dth_hvac                                                                                                                                                                                 10\n",
       "project_av                    ,Â                     project_voice                    ,Â                     project_remotes                                                                                                           10\n",
       "hubv2                                                                                                                                                                                                                                  10\n",
       "sensor                    ,Â                     alarm                    ,Â                     thermostat                    ,Â                     dth_hvac                    ,Â                     nest                          10\n",
       "support                                                                                                                                                                                                                                10\n",
       "smartapp_av                    ,Â                     dth_av                    ,Â                     zone                                                                                                                            10\n",
       "smartapp_misc                    ,Â                     dth_sensors                    ,Â                     requires_server                    ,Â                     smartapp_appliances                                            10\n",
       "watermeter                    ,Â                     flowmeter                    ,Â                     fortrezz                                                                                                                      10\n",
       "devicetype                    ,Â                     developers                                                                                                                                                                        10\n",
       "sunset                    ,Â                     automation                                                                                                                                                                            10\n",
       "smartapp_alerts                    ,Â                     smartapp_security                    ,Â                     shm                    ,Â                     rboyapps                    ,Â                     entry-delay     10\n",
       "Name: tag, dtype: int64"
      ]
     },
     "execution_count": 40,
     "metadata": {},
     "output_type": "execute_result"
    }
   ],
   "source": [
    "dataset['tag'].value_counts()"
   ]
  },
  {
   "cell_type": "code",
   "execution_count": 41,
   "metadata": {},
   "outputs": [
    {
     "data": {
      "text/plain": [
       "0                                                      0\n",
       "1                                                      0\n",
       "2      devicetype                    ,Â              ...\n",
       "3      fibaro                    ,Â                  ...\n",
       "4      watermeter                    ,Â              ...\n",
       "                             ...                        \n",
       "295    smartapp_misc                    ,Â           ...\n",
       "296                                                    0\n",
       "297    rooms                    ,Â                   ...\n",
       "298                                              support\n",
       "299    sunset                    ,Â                  ...\n",
       "Name: tag, Length: 300, dtype: object"
      ]
     },
     "execution_count": 41,
     "metadata": {},
     "output_type": "execute_result"
    }
   ],
   "source": [
    "dataset['tag']"
   ]
  },
  {
   "cell_type": "code",
   "execution_count": 42,
   "metadata": {},
   "outputs": [
    {
     "data": {
      "text/html": [
       "<div>\n",
       "<style scoped>\n",
       "    .dataframe tbody tr th:only-of-type {\n",
       "        vertical-align: middle;\n",
       "    }\n",
       "\n",
       "    .dataframe tbody tr th {\n",
       "        vertical-align: top;\n",
       "    }\n",
       "\n",
       "    .dataframe thead th {\n",
       "        text-align: right;\n",
       "    }\n",
       "</style>\n",
       "<table border=\"1\" class=\"dataframe\">\n",
       "  <thead>\n",
       "    <tr style=\"text-align: right;\">\n",
       "      <th></th>\n",
       "      <th>index</th>\n",
       "      <th>reply</th>\n",
       "      <th>views</th>\n",
       "    </tr>\n",
       "  </thead>\n",
       "  <tbody>\n",
       "    <tr>\n",
       "      <th>count</th>\n",
       "      <td>300.000000</td>\n",
       "      <td>300.000000</td>\n",
       "      <td>300.000000</td>\n",
       "    </tr>\n",
       "    <tr>\n",
       "      <th>mean</th>\n",
       "      <td>14.500000</td>\n",
       "      <td>201.800000</td>\n",
       "      <td>9848.066667</td>\n",
       "    </tr>\n",
       "    <tr>\n",
       "      <th>std</th>\n",
       "      <td>8.669903</td>\n",
       "      <td>435.142955</td>\n",
       "      <td>15160.715109</td>\n",
       "    </tr>\n",
       "    <tr>\n",
       "      <th>min</th>\n",
       "      <td>0.000000</td>\n",
       "      <td>1.000000</td>\n",
       "      <td>10.000000</td>\n",
       "    </tr>\n",
       "    <tr>\n",
       "      <th>25%</th>\n",
       "      <td>7.000000</td>\n",
       "      <td>3.000000</td>\n",
       "      <td>60.000000</td>\n",
       "    </tr>\n",
       "    <tr>\n",
       "      <th>50%</th>\n",
       "      <td>14.500000</td>\n",
       "      <td>17.000000</td>\n",
       "      <td>809.000000</td>\n",
       "    </tr>\n",
       "    <tr>\n",
       "      <th>75%</th>\n",
       "      <td>22.000000</td>\n",
       "      <td>145.000000</td>\n",
       "      <td>14396.000000</td>\n",
       "    </tr>\n",
       "    <tr>\n",
       "      <th>max</th>\n",
       "      <td>29.000000</td>\n",
       "      <td>2117.000000</td>\n",
       "      <td>49751.000000</td>\n",
       "    </tr>\n",
       "  </tbody>\n",
       "</table>\n",
       "</div>"
      ],
      "text/plain": [
       "            index        reply         views\n",
       "count  300.000000   300.000000    300.000000\n",
       "mean    14.500000   201.800000   9848.066667\n",
       "std      8.669903   435.142955  15160.715109\n",
       "min      0.000000     1.000000     10.000000\n",
       "25%      7.000000     3.000000     60.000000\n",
       "50%     14.500000    17.000000    809.000000\n",
       "75%     22.000000   145.000000  14396.000000\n",
       "max     29.000000  2117.000000  49751.000000"
      ]
     },
     "execution_count": 42,
     "metadata": {},
     "output_type": "execute_result"
    }
   ],
   "source": [
    "dataset.describe()"
   ]
  },
  {
   "cell_type": "code",
   "execution_count": 43,
   "metadata": {},
   "outputs": [
    {
     "data": {
      "text/plain": [
       "index      14.500000\n",
       "reply     201.800000\n",
       "views    9848.066667\n",
       "dtype: float64"
      ]
     },
     "execution_count": 43,
     "metadata": {},
     "output_type": "execute_result"
    }
   ],
   "source": [
    "dataset.mean()"
   ]
  },
  {
   "cell_type": "code",
   "execution_count": 44,
   "metadata": {},
   "outputs": [
    {
     "ename": "TypeError",
     "evalue": "from_bounds() argument after * must be an iterable, not float",
     "output_type": "error",
     "traceback": [
      "\u001b[0;31m---------------------------------------------------------------------------\u001b[0m",
      "\u001b[0;31mTypeError\u001b[0m                                 Traceback (most recent call last)",
      "\u001b[0;32m<ipython-input-44-7777bdb1e4f1>\u001b[0m in \u001b[0;36m<module>\u001b[0;34m\u001b[0m\n\u001b[0;32m----> 1\u001b[0;31m \u001b[0mplt\u001b[0m\u001b[0;34m.\u001b[0m\u001b[0mfigure\u001b[0m\u001b[0;34m(\u001b[0m\u001b[0mfigsize\u001b[0m \u001b[0;34m=\u001b[0m \u001b[0;34m(\u001b[0m\u001b[0;36m10.6\u001b[0m\u001b[0;34m)\u001b[0m\u001b[0;34m)\u001b[0m\u001b[0;34m\u001b[0m\u001b[0;34m\u001b[0m\u001b[0m\n\u001b[0m",
      "\u001b[0;32m~/opt/anaconda3/lib/python3.7/site-packages/matplotlib/pyplot.py\u001b[0m in \u001b[0;36mfigure\u001b[0;34m(num, figsize, dpi, facecolor, edgecolor, frameon, FigureClass, clear, **kwargs)\u001b[0m\n\u001b[1;32m    543\u001b[0m                                         \u001b[0mframeon\u001b[0m\u001b[0;34m=\u001b[0m\u001b[0mframeon\u001b[0m\u001b[0;34m,\u001b[0m\u001b[0;34m\u001b[0m\u001b[0;34m\u001b[0m\u001b[0m\n\u001b[1;32m    544\u001b[0m                                         \u001b[0mFigureClass\u001b[0m\u001b[0;34m=\u001b[0m\u001b[0mFigureClass\u001b[0m\u001b[0;34m,\u001b[0m\u001b[0;34m\u001b[0m\u001b[0;34m\u001b[0m\u001b[0m\n\u001b[0;32m--> 545\u001b[0;31m                                         **kwargs)\n\u001b[0m\u001b[1;32m    546\u001b[0m \u001b[0;34m\u001b[0m\u001b[0m\n\u001b[1;32m    547\u001b[0m         \u001b[0;32mif\u001b[0m \u001b[0mfigLabel\u001b[0m\u001b[0;34m:\u001b[0m\u001b[0;34m\u001b[0m\u001b[0;34m\u001b[0m\u001b[0m\n",
      "\u001b[0;32m~/opt/anaconda3/lib/python3.7/site-packages/matplotlib/backend_bases.py\u001b[0m in \u001b[0;36mnew_figure_manager\u001b[0;34m(cls, num, *args, **kwargs)\u001b[0m\n\u001b[1;32m   3258\u001b[0m         \u001b[0;32mfrom\u001b[0m \u001b[0mmatplotlib\u001b[0m\u001b[0;34m.\u001b[0m\u001b[0mfigure\u001b[0m \u001b[0;32mimport\u001b[0m \u001b[0mFigure\u001b[0m\u001b[0;34m\u001b[0m\u001b[0;34m\u001b[0m\u001b[0m\n\u001b[1;32m   3259\u001b[0m         \u001b[0mfig_cls\u001b[0m \u001b[0;34m=\u001b[0m \u001b[0mkwargs\u001b[0m\u001b[0;34m.\u001b[0m\u001b[0mpop\u001b[0m\u001b[0;34m(\u001b[0m\u001b[0;34m'FigureClass'\u001b[0m\u001b[0;34m,\u001b[0m \u001b[0mFigure\u001b[0m\u001b[0;34m)\u001b[0m\u001b[0;34m\u001b[0m\u001b[0;34m\u001b[0m\u001b[0m\n\u001b[0;32m-> 3260\u001b[0;31m         \u001b[0mfig\u001b[0m \u001b[0;34m=\u001b[0m \u001b[0mfig_cls\u001b[0m\u001b[0;34m(\u001b[0m\u001b[0;34m*\u001b[0m\u001b[0margs\u001b[0m\u001b[0;34m,\u001b[0m \u001b[0;34m**\u001b[0m\u001b[0mkwargs\u001b[0m\u001b[0;34m)\u001b[0m\u001b[0;34m\u001b[0m\u001b[0;34m\u001b[0m\u001b[0m\n\u001b[0m\u001b[1;32m   3261\u001b[0m         \u001b[0;32mreturn\u001b[0m \u001b[0mcls\u001b[0m\u001b[0;34m.\u001b[0m\u001b[0mnew_figure_manager_given_figure\u001b[0m\u001b[0;34m(\u001b[0m\u001b[0mnum\u001b[0m\u001b[0;34m,\u001b[0m \u001b[0mfig\u001b[0m\u001b[0;34m)\u001b[0m\u001b[0;34m\u001b[0m\u001b[0;34m\u001b[0m\u001b[0m\n\u001b[1;32m   3262\u001b[0m \u001b[0;34m\u001b[0m\u001b[0m\n",
      "\u001b[0;32m~/opt/anaconda3/lib/python3.7/site-packages/matplotlib/figure.py\u001b[0m in \u001b[0;36m__init__\u001b[0;34m(self, figsize, dpi, facecolor, edgecolor, linewidth, frameon, subplotpars, tight_layout, constrained_layout)\u001b[0m\n\u001b[1;32m    349\u001b[0m             raise ValueError('figure size must be finite not '\n\u001b[1;32m    350\u001b[0m                              '{}'.format(figsize))\n\u001b[0;32m--> 351\u001b[0;31m         \u001b[0mself\u001b[0m\u001b[0;34m.\u001b[0m\u001b[0mbbox_inches\u001b[0m \u001b[0;34m=\u001b[0m \u001b[0mBbox\u001b[0m\u001b[0;34m.\u001b[0m\u001b[0mfrom_bounds\u001b[0m\u001b[0;34m(\u001b[0m\u001b[0;36m0\u001b[0m\u001b[0;34m,\u001b[0m \u001b[0;36m0\u001b[0m\u001b[0;34m,\u001b[0m \u001b[0;34m*\u001b[0m\u001b[0mfigsize\u001b[0m\u001b[0;34m)\u001b[0m\u001b[0;34m\u001b[0m\u001b[0;34m\u001b[0m\u001b[0m\n\u001b[0m\u001b[1;32m    352\u001b[0m \u001b[0;34m\u001b[0m\u001b[0m\n\u001b[1;32m    353\u001b[0m         \u001b[0mself\u001b[0m\u001b[0;34m.\u001b[0m\u001b[0mdpi_scale_trans\u001b[0m \u001b[0;34m=\u001b[0m \u001b[0mAffine2D\u001b[0m\u001b[0;34m(\u001b[0m\u001b[0;34m)\u001b[0m\u001b[0;34m.\u001b[0m\u001b[0mscale\u001b[0m\u001b[0;34m(\u001b[0m\u001b[0mdpi\u001b[0m\u001b[0;34m,\u001b[0m \u001b[0mdpi\u001b[0m\u001b[0;34m)\u001b[0m\u001b[0;34m\u001b[0m\u001b[0;34m\u001b[0m\u001b[0m\n",
      "\u001b[0;31mTypeError\u001b[0m: from_bounds() argument after * must be an iterable, not float"
     ]
    }
   ],
   "source": [
    "plt.figure(figsize = (10.6))"
   ]
  },
  {
   "cell_type": "code",
   "execution_count": 45,
   "metadata": {},
   "outputs": [
    {
     "data": {
      "text/plain": [
       "<Figure size 720x432 with 0 Axes>"
      ]
     },
     "execution_count": 45,
     "metadata": {},
     "output_type": "execute_result"
    },
    {
     "data": {
      "text/plain": [
       "<Figure size 720x432 with 0 Axes>"
      ]
     },
     "metadata": {},
     "output_type": "display_data"
    }
   ],
   "source": [
    "plt.figure(figsize = (10,6))"
   ]
  },
  {
   "cell_type": "code",
   "execution_count": 49,
   "metadata": {},
   "outputs": [
    {
     "data": {
      "text/plain": [
       "<matplotlib.axes._subplots.AxesSubplot at 0x7fdef32d2910>"
      ]
     },
     "execution_count": 49,
     "metadata": {},
     "output_type": "execute_result"
    },
    {
     "data": {
      "image/png": "[encoded data removed]",
      "text/plain": [
       "<Figure size 432x288 with 1 Axes>"
      ]
     },
     "metadata": {
      "needs_background": "light"
     },
     "output_type": "display_data"
    }
   ],
   "source": [
    "dataset.mean().sort_values(ascending = False).head(6).plot(kind='bar', fontsize=14)"
   ]
  },
  {
   "cell_type": "code",
   "execution_count": 50,
   "metadata": {},
   "outputs": [
    {
     "data": {
      "text/plain": [
       "<function matplotlib.pyplot.show(*args, **kw)>"
      ]
     },
     "execution_count": 50,
     "metadata": {},
     "output_type": "execute_result"
    }
   ],
   "source": [
    "plt.show"
   ]
  },
  {
   "cell_type": "code",
   "execution_count": null,
   "metadata": {},
   "outputs": [],
   "source": []
  }
 ],
 "metadata": {
  "kernelspec": {
   "display_name": "Python 3",
   "language": "python",
   "name": "python3"
  },
  "language_info": {
   "codemirror_mode": {
    "name": "ipython",
    "version": 3
   },
   "file_extension": ".py",
   "mimetype": "text/x-python",
   "name": "python",
   "nbconvert_exporter": "python",
   "pygments_lexer": "ipython3",
   "version": "3.7.6"
  }
 },
 "nbformat": 4,
 "nbformat_minor": 4
}

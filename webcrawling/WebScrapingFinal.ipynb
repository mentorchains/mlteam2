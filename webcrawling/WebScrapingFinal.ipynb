{
 "cells": [
  {
   "cell_type": "code",
   "execution_count": 1,
   "metadata": {},
   "outputs": [],
   "source": [
    "import urllib\n",
    "import json\n",
    "import requests\n",
    "from bs4 import BeautifulSoup\n",
    "import pandas as pd\n",
    "import re\n",
    "import string\n",
    "import nltk\n",
    "import nltk\n",
    "from nltk.corpus import stopwords\n",
    "from nltk.tokenize import RegexpTokenizer\n",
    "from nltk.stem import WordNetLemmatizer\n",
    "from nltk.stem.porter import PorterStemmer\n",
    "from selenium import webdriver\n",
    "from selenium.webdriver.chrome.options import Options\n",
    "import time\n",
    "import pickle"
   ]
  },
  {
   "cell_type": "code",
   "execution_count": 2,
   "metadata": {},
   "outputs": [],
   "source": [
    "#Task1\n",
    "def getpage(num):\n",
    "    url = \"https://community.smartthings.com/latest?no_definitions=true&page=\"+str(num)\n",
    "    r = requests.get(url)\n",
    "    soup = BeautifulSoup(r.text, \"lxml\")\n",
    "    soup_all = soup.findAll('span', class_='link-top-line')\n",
    "    title = []\n",
    "    url = []\n",
    "    for i in soup_all:\n",
    "        post = i.find(class_= \"title raw-link raw-topic-link\")\n",
    "        title.append(post.text)\n",
    "        url.append(post.get('href'))\n",
    "        #print(url)\n",
    "    tag = []\n",
    "    tags_all = soup.findAll(class_=\"link-bottom-line\")\n",
    "    for i in tags_all:\n",
    "        tag.append(i.find('span',class_='category-name').text)\n",
    "    subtag = []\n",
    "    subtags_all = soup.findAll('div',class_='discourse-tags')\n",
    "    for i in subtags_all:\n",
    "        discourse_tag = i.find('a',class_ = \"discourse-tag\")\n",
    "        if discourse_tag:\n",
    "            subtag.append(discourse_tag.text)\n",
    "        else:\n",
    "            subtag.append(None)\n",
    "    data = pd.DataFrame({'title':title,'tag':tag,'subtag':subtag,'url':url})\n",
    "    return data"
   ]
  },
  {
   "cell_type": "code",
   "execution_count": null,
   "metadata": {},
   "outputs": [],
   "source": []
  },
  {
   "cell_type": "code",
   "execution_count": null,
   "metadata": {},
   "outputs": [],
   "source": []
  },
  {
   "cell_type": "code",
   "execution_count": 3,
   "metadata": {},
   "outputs": [],
   "source": [
    "#Task2\n",
    "stemmer = PorterStemmer()\n",
    "lemmatizer = WordNetLemmatizer()\n",
    "def remove_html(text):\n",
    "    sup = BeautifulSoup(text,'lxml')\n",
    "    html_free = sup.get_text()\n",
    "    return html_free\n",
    "\n",
    "def remove_punc(text):\n",
    "    no_punc = \"\".join([c for c in text if c not in string.punctuation])\n",
    "    return no_punc\n",
    "def remove_stopwords(text):\n",
    "    words = [w for w in text if w not in stopwords.words('english')]\n",
    "    return words\n",
    "def word_lemmatizer(text):\n",
    "    lem_text = [lemmatizer.lemmatize(i) for i in text]\n",
    "    return lem_text\n",
    "def word_stemmer(text):\n",
    "    stem_text = [stemmer.stem(i) for i in text]\n",
    "    return stem_text\n",
    "\n",
    "def read_from_url(url):\n",
    "    r = requests.get(url)\n",
    "    soup = BeautifulSoup(r.text, 'html.parser')\n",
    "    containers = soup.findAll(\"div\", {\"class\":\"topic-body crawler-post\"})\n",
    "    df = pd.DataFrame(columns=['user', 'content','raw_content'])\n",
    "    count = 0\n",
    "    for container in containers:\n",
    "\n",
    "        user_container = container.findAll(\"span\", {\"itemprop\":\"name\"})\n",
    "        user = user_container[0].text\n",
    "        #print(\"User: \" + user.lower())\n",
    "\n",
    "        content_container = container.findAll(\"div\", {\"class\":\"post\"})\n",
    "        \"\"\"\n",
    "        This if statement should be removed once infinite scorlling bar is handled\n",
    "        \"\"\"\n",
    "        if content_container:\n",
    "            content = remove_html(content_container[0].text)\n",
    "        #print(\"Content: \")\n",
    "            #print(content)\n",
    "\n",
    "            dfcontent = (content.lower()).replace(\"\\t\",\"\").replace(\"\\n\",\" \").replace(\"https \", \"https\")\\\n",
    "                .replace(\"…\",\"\").replace(\"we’re\", \"we are\").replace(\"“\",\"\").replace(\"”\",\"\").replace(\"i’ll\", \"i will\")\n",
    "            #print(dfcontent)\n",
    "        #print(\"\\n\")\n",
    "        \n",
    "        #else:\n",
    "            #print(\"content empty, perhaps because infinite scrolling bar\")\n",
    "\n",
    "        gruber = re.compile(r\"\"\"(?i)\\b((?:https?:(?:/{1,3}|[a-z0-9%])|[a-z0-9.\\-]+[.](?:com|net|org|edu|\n",
    "        gov|mil|aero|asia|biz|cat|coop|info|int|jobs|mobi|museum|name|post|pro|tel|travel|xxx|ac|ad|ae|af|\n",
    "        ag|ai|al|am|an|ao|aq|ar|as|at|au|aw|ax|az|ba|bb|bd|be|bf|bg|bh|bi|bj|bm|bn|bo|br|bs|bt|bv|bw|by|bz\n",
    "        |ca|cc|cd|cf|cg|ch|ci|ck|cl|cm|cn|co|cr|cs|cu|cv|cx|cy|cz|dd|de|dj|dk|dm|do|dz|ec|ee|eg|eh|er|es|et\n",
    "        |eu|fi|fj|fk|fm|fo|fr|ga|gb|gd|ge|gf|gg|gh|gi|gl|gm|gn|gp|gq|gr|gs|gt|gu|gw|gy|hk|hm|hn|hr|ht|hu|id\n",
    "        |ie|il|im|in|io|iq|ir|is|it|je|jm|jo|jp|ke|kg|kh|ki|km|kn|kp|kr|kw|ky|kz|la|lb|lc|li|lk|lr|ls|lt|lu\n",
    "        |lv|ly|ma|mc|md|me|mg|mh|mk|ml|mm|mn|mo|mp|mq|mr|ms|mt|mu|mv|mw|mx|my|mz|na|nc|ne|nf|ng|ni|nl|no|np\n",
    "        |nr|nu|nz|om|pa|pe|pf|pg|ph|pk|pl|pm|pn|pr|ps|pt|pw|py|qa|re|ro|rs|ru|rw|sa|sb|sc|sd|se|sg|sh|si|sj|\n",
    "        Ja|sk|sl|sm|sn|so|sr|ss|st|su|sv|sx|sy|sz|tc|td|tf|tg|th|tj|tk|tl|tm|tn|to|tp|tr|tt|tv|tw|tz|ua|ug|\n",
    "        uk|us|uy|uz|va|vc|ve|vg|vi|vn|vu|wf|ws|ye|yt|yu|za|zm|zw)/)(?:[^\\s()<>{}\\[\\]]+|\\([^\\s()]*?\\([^\\s()]+\n",
    "        \\)[^\\s()]*?\\)|\\([^\\s]+?\\))+(?:\\([^\\s()]*?\\([^\\s()]+\\)[^\\s()]*?\\)|\\([^\\s]+?\\)|[^\\s`!()\\[\\]{};:'\".,<>\n",
    "        ?«»“”‘’])|(?:(?<!@)[a-z0-9]+(?:[.\\-][a-z0-9]+)*[.](?:com|net|org|edu|gov|mil|aero|asia|biz|cat|coop\n",
    "        |info|int|jobs|mobi|museum|name|post|pro|tel|travel|xxx|ac|ad|ae|af|ag|ai|al|am|an|ao|aq|ar|as|at|au\n",
    "        |aw|ax|az|ba|bb|bd|be|bf|bg|bh|bi|bj|bm|bn|bo|br|bs|bt|bv|bw|by|bz|ca|cc|cd|cf|cg|ch|ci|ck|cl|cm|cn|\n",
    "        co|cr|cs|cu|cv|cx|cy|cz|dd|de|dj|dk|dm|do|dz|ec|ee|eg|eh|er|es|et|eu|fi|fj|fk|fm|fo|fr|ga|gb|gd|ge|g\n",
    "        f|gg|gh|gi|gl|gm|gn|gp|gq|gr|gs|gt|gu|gw|gy|hk|hm|hn|hr|ht|hu|id|ie|il|im|in|io|iq|ir|is|it|je|jm|jo\n",
    "        |jp|ke|kg|kh|ki|km|kn|kp|kr|kw|ky|kz|la|lb|lc|li|lk|lr|ls|lt|lu|lv|ly|ma|mc|md|me|mg|mh|mk|ml|mm|mn|\n",
    "        mo|mp|mq|mr|ms|mt|mu|mv|mw|mx|my|mz|na|nc|ne|nf|ng|ni|nl|no|np|nr|nu|nz|om|pa|pe|pf|pg|ph|pk|pl|pm|p\n",
    "        n|pr|ps|pt|pw|py|qa|re|ro|rs|ru|rw|sa|sb|sc|sd|se|sg|sh|si|sj|Ja|sk|sl|sm|sn|so|sr|ss|st|su|sv|sx|sy\n",
    "        |sz|tc|td|tf|tg|th|tj|tk|tl|tm|tn|to|tp|tr|tt|tv|tw|tz|ua|ug|uk|us|uy|uz|va|vc|ve|vg|vi|vn|vu|wf|ws|\n",
    "        ye|yt|yu|za|zm|zw)\\b/?(?!@)))\"\"\")\n",
    "        split_dfcontent = gruber.split(dfcontent)\n",
    "\n",
    "        raw_dfcontent = list(filter(None, dfcontent.split(\"\\n\")))\n",
    "\n",
    "        for i in range(0, len(split_dfcontent), 2):\n",
    "            split_dfcontent[i] = remove_punc(split_dfcontent[i])\n",
    "\n",
    "        final_dfcontent = \"\".join(split_dfcontent)\n",
    "\n",
    "        df.loc[count] = [user.lower()] + [(' '.join(final_dfcontent.split())).lower()]+[raw_dfcontent]\n",
    "        count += 1\n",
    "\n",
    "        #print((' '.join(final_dfcontent.split())).lower())\n",
    "        #print(\"\\n\")\n",
    "    df['stem'] = df['content']\n",
    "    #print(df)\n",
    "    for i in range(len(containers)):\n",
    "        #print(df['Content'][i])\n",
    "        df['stem'][i] = re.split(r'\\s{1,}', df['content'][i])\n",
    "        #df['origin_content'][i] = list(filter(None, content))\n",
    "    df['stem'] = df['stem'].apply(lambda x : remove_stopwords(x))\n",
    "    \"\"\"\n",
    "    \n",
    "    df['stem']=df['stem'].apply(lambda x: word_lemmatizer(x))\n",
    "    \"\"\"\n",
    "    \n",
    "    df['stem'] = df['stem'].apply(lambda x: word_stemmer(x))\n",
    "    return df"
   ]
  },
  {
   "cell_type": "code",
   "execution_count": 4,
   "metadata": {},
   "outputs": [],
   "source": [
    "c = read_from_url(\"https://community.smartthings.com/t/fire-hd-8-tablets-on-sale-amazon-best-buy-june-29-2020/198367\")"
   ]
  },
  {
   "cell_type": "code",
   "execution_count": 5,
   "metadata": {},
   "outputs": [],
   "source": [
    "dflist = []\n",
    "for i in range(1000):\n",
    "    df = getpage(i)\n",
    "    dflist.append(df)"
   ]
  },
  {
   "cell_type": "code",
   "execution_count": 6,
   "metadata": {},
   "outputs": [],
   "source": [
    "data = pd.concat(dflist).reset_index().drop(columns = ['index'])"
   ]
  },
  {
   "cell_type": "code",
   "execution_count": 7,
   "metadata": {},
   "outputs": [],
   "source": [
    "data['starter_content'] = ''\n",
    "data['starter_stem'] = ''\n",
    "data['starter_raw_content'] = ''\n",
    "data['reply_content'] = ''\n",
    "data['reply_stem'] = ''\n",
    "data['reply_raw_content'] = ''\n",
    "data['category'] = ''"
   ]
  },
  {
   "cell_type": "code",
   "execution_count": null,
   "metadata": {},
   "outputs": [],
   "source": []
  },
  {
   "cell_type": "code",
   "execution_count": null,
   "metadata": {},
   "outputs": [],
   "source": [
    "for i in range(len(data)):\n",
    "    subdata = read_from_url(data['url'][i])\n",
    "    starter_content = ''\n",
    "    starter_stem = []\n",
    "    starter_raw_content = []\n",
    "    reply_raw_content = []\n",
    "    reply_content=''\n",
    "    reply_stem = []\n",
    "    for k in range(len(subdata)):\n",
    "        if subdata['user'][k] == subdata['user'][0]:\n",
    "            starter_content += subdata['content'][k]\n",
    "            starter_raw_content += subdata['raw_content'][k]\n",
    "            starter_stem += subdata['stem'][k]\n",
    "        else:\n",
    "            reply_content += subdata['content'][k]\n",
    "            reply_raw_content += subdata['raw_content'][k]\n",
    "            reply_stem += subdata['stem'][k]    \n",
    "    data['starter_content'][i] = starter_content\n",
    "    data['starter_raw_content'][i] = starter_raw_content\n",
    "    data['starter_stem'][i] = starter_stem\n",
    "    data['reply_content'][i] = reply_content\n",
    "    data['reply_raw_content'][i] = reply_raw_content\n",
    "    data['reply_stem'][i] = reply_stem"
   ]
  },
  {
   "cell_type": "code",
   "execution_count": null,
   "metadata": {},
   "outputs": [],
   "source": [
    "data['tag'].unique()"
   ]
  },
  {
   "cell_type": "code",
   "execution_count": null,
   "metadata": {},
   "outputs": [],
   "source": [
    "data.to_csv('data.csv')"
   ]
  },
  {
   "cell_type": "code",
   "execution_count": null,
   "metadata": {},
   "outputs": [],
   "source": [
    "data.head()"
   ]
  },
  {
   "cell_type": "code",
   "execution_count": null,
   "metadata": {},
   "outputs": [],
   "source": []
  }
 ],
 "metadata": {
  "kernelspec": {
   "display_name": "Python 3",
   "language": "python",
   "name": "python3"
  },
  "language_info": {
   "codemirror_mode": {
    "name": "ipython",
    "version": 3
   },
   "file_extension": ".py",
   "mimetype": "text/x-python",
   "name": "python",
   "nbconvert_exporter": "python",
   "pygments_lexer": "ipython3",
   "version": "3.7.6"
  }
 },
 "nbformat": 4,
 "nbformat_minor": 4
}
